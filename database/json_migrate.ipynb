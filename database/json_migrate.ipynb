{
 "cells": [
  {
   "cell_type": "code",
   "execution_count": 3,
   "id": "ced2dc19",
   "metadata": {},
   "outputs": [
    {
     "name": "stdout",
     "output_type": "stream",
     "text": [
      "Data migration to SQLite complete\n"
     ]
    }
   ],
   "source": [
    "import sqlite3\n",
    "import json\n",
    "\n",
    "# Load JSON\n",
    "with open(\"../data/cochrane_parsed.json\", \"r\", encoding=\"utf-8\") as f:\n",
    "    data = json.load(f)\n",
    "\n",
    "# Connect to SQLite DB \n",
    "conn = sqlite3.connect(\"../database/cochrane_reviews.db\")\n",
    "cur = conn.cursor()\n",
    "\n",
    "# Create tables\n",
    "cur.executescript(\"\"\"\n",
    "DROP TABLE IF EXISTS reviews;\n",
    "DROP TABLE IF EXISTS authors;\n",
    "DROP TABLE IF EXISTS abstracts;\n",
    "DROP TABLE IF EXISTS pico;\n",
    "\n",
    "CREATE TABLE reviews (\n",
    "    id INTEGER PRIMARY KEY AUTOINCREMENT,\n",
    "    title TEXT,\n",
    "    source_url TEXT\n",
    ");\n",
    "\n",
    "CREATE TABLE authors (\n",
    "    id INTEGER PRIMARY KEY AUTOINCREMENT,\n",
    "    review_id INTEGER,\n",
    "    name TEXT,\n",
    "    FOREIGN KEY (review_id) REFERENCES reviews(id)\n",
    ");\n",
    "\n",
    "CREATE TABLE abstracts (\n",
    "    id INTEGER PRIMARY KEY AUTOINCREMENT,\n",
    "    review_id INTEGER,\n",
    "    section TEXT,\n",
    "    content TEXT,\n",
    "    FOREIGN KEY (review_id) REFERENCES reviews(id)\n",
    ");\n",
    "\n",
    "CREATE TABLE pico (\n",
    "    id INTEGER PRIMARY KEY AUTOINCREMENT,\n",
    "    review_id INTEGER,\n",
    "    category TEXT,\n",
    "    term TEXT,\n",
    "    FOREIGN KEY (review_id) REFERENCES reviews(id)\n",
    ");\n",
    "\"\"\")\n",
    "\n",
    "# Insert data\n",
    "for review in data:\n",
    "    title = review.get(\"title\")\n",
    "    url = review.get(\"source_url\")\n",
    "\n",
    "    # Insert review and get its ID\n",
    "    cur.execute(\"INSERT INTO reviews (title, source_url) VALUES (?, ?)\", (title, url))\n",
    "    review_id = cur.lastrowid\n",
    "\n",
    "    # Insert authors\n",
    "    for author in review.get(\"authors\", []):\n",
    "        cur.execute(\"INSERT INTO authors (review_id, name) VALUES (?, ?)\", (review_id, author))\n",
    "\n",
    "    # Insert abstract sections\n",
    "    for section, content in review.get(\"abstract\", {}).items():\n",
    "        cur.execute(\"INSERT INTO abstracts (review_id, section, content) VALUES (?, ?, ?)\",\n",
    "                    (review_id, section, content))\n",
    "\n",
    "    # Insert PICO terms\n",
    "    for category, terms in review.get(\"pico\", {}).items():\n",
    "        for term in terms:\n",
    "            cur.execute(\"INSERT INTO pico (review_id, category, term) VALUES (?, ?, ?)\",\n",
    "                        (review_id, category, term))\n",
    "\n",
    "# Commit and close\n",
    "conn.commit()\n",
    "conn.close()\n",
    "print(\"Data migration to SQLite complete\")\n"
   ]
  }
 ],
 "metadata": {
  "kernelspec": {
   "display_name": "Python 3",
   "language": "python",
   "name": "python3"
  },
  "language_info": {
   "codemirror_mode": {
    "name": "ipython",
    "version": 3
   },
   "file_extension": ".py",
   "mimetype": "text/x-python",
   "name": "python",
   "nbconvert_exporter": "python",
   "pygments_lexer": "ipython3",
   "version": "3.12.1"
  }
 },
 "nbformat": 4,
 "nbformat_minor": 5
}

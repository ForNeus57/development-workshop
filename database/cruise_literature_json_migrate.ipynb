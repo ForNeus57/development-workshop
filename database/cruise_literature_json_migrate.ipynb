{
 "cells": [
  {
   "cell_type": "code",
   "id": "ced2dc19",
   "metadata": {
    "ExecuteTime": {
     "end_time": "2025-04-27T20:35:37.050043Z",
     "start_time": "2025-04-27T20:35:37.025576Z"
    }
   },
   "source": [
    "import sqlite3\n",
    "import json\n",
    "\n",
    "# Load JSON\n",
    "with open(\"../data/cruise_literature/cruise_literature_parsed.json\", \"r\", encoding=\"utf-8\") as f:\n",
    "    data = json.load(f)\n",
    "\n",
    "# Connect to SQLite DB \n",
    "conn = sqlite3.connect(\"../data/dataset.db\")\n",
    "cur = conn.cursor()\n",
    "\n",
    "# Create tables\n",
    "cur.executescript(\"\"\"\n",
    "CREATE TABLE IF NOT EXISTS reviews (\n",
    "    id INTEGER PRIMARY KEY AUTOINCREMENT,\n",
    "    title TEXT,\n",
    "    source_url TEXT\n",
    ");\n",
    "\n",
    "CREATE TABLE IF NOT EXISTS authors (\n",
    "    id INTEGER PRIMARY KEY AUTOINCREMENT,\n",
    "    review_id INTEGER,\n",
    "    name TEXT,\n",
    "    FOREIGN KEY (review_id) REFERENCES reviews(id)\n",
    ");\n",
    "\n",
    "CREATE TABLE IF NOT EXISTS abstracts (\n",
    "    id INTEGER PRIMARY KEY AUTOINCREMENT,\n",
    "    review_id INTEGER,\n",
    "    section TEXT,\n",
    "    content TEXT,\n",
    "    FOREIGN KEY (review_id) REFERENCES reviews(id)\n",
    ");\n",
    "\n",
    "CREATE TABLE IF NOT EXISTS pico (\n",
    "    id INTEGER PRIMARY KEY AUTOINCREMENT,\n",
    "    review_id INTEGER,\n",
    "    category TEXT,\n",
    "    term TEXT,\n",
    "    FOREIGN KEY (review_id) REFERENCES reviews(id)\n",
    ");\n",
    "\"\"\")\n",
    "\n",
    "# Insert data\n",
    "for review in data:\n",
    "    title = review.get(\"title\")\n",
    "    url = review.get(\"source_url\")\n",
    "\n",
    "    # Insert review and get its ID\n",
    "    cur.execute(\"INSERT INTO reviews (title, source_url) VALUES (?, ?)\", (title, url))\n",
    "    review_id = cur.lastrowid\n",
    "\n",
    "    # Insert authors\n",
    "    for author in review.get(\"authors\", []):\n",
    "        cur.execute(\"INSERT INTO authors (review_id, name) VALUES (?, ?)\", (review_id, author))\n",
    "\n",
    "    # Insert abstract sections\n",
    "    for section, content in review.get(\"abstract\", {}).items():\n",
    "        cur.execute(\"INSERT INTO abstracts (review_id, section, content) VALUES (?, ?, ?)\",\n",
    "                    (review_id, section, content))\n",
    "\n",
    "# Commit and close\n",
    "conn.commit()\n",
    "conn.close()"
   ],
   "outputs": [],
   "execution_count": 1
  }
 ],
 "metadata": {
  "kernelspec": {
   "display_name": "Python 3",
   "language": "python",
   "name": "python3"
  },
  "language_info": {
   "codemirror_mode": {
    "name": "ipython",
    "version": 3
   },
   "file_extension": ".py",
   "mimetype": "text/x-python",
   "name": "python",
   "nbconvert_exporter": "python",
   "pygments_lexer": "ipython3",
   "version": "3.12.1"
  }
 },
 "nbformat": 4,
 "nbformat_minor": 5
}

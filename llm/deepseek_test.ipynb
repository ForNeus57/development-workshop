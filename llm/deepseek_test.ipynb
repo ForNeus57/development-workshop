{
 "cells": [
  {
   "cell_type": "code",
   "execution_count": null,
   "id": "00de6642",
   "metadata": {},
   "outputs": [],
   "source": [
    "# Install pytorch with cuda\n",
    "\n",
    "# ! pip install torch torchvision torchaudio --index-url https://download.pytorch.org/whl/cu118"
   ]
  },
  {
   "cell_type": "code",
   "execution_count": 1,
   "id": "2f6a2191",
   "metadata": {},
   "outputs": [],
   "source": [
    "from transformers import AutoTokenizer, AutoModelForSeq2SeqLM\n",
    "import logging\n",
    "import torch"
   ]
  },
  {
   "cell_type": "code",
   "execution_count": 2,
   "id": "7d38309e",
   "metadata": {},
   "outputs": [],
   "source": [
    "def get_device():\n",
    "    if torch.cuda.is_available():\n",
    "        logging.info(\"CUDA is available.\")\n",
    "        return torch.device(\"cuda\")\n",
    "    elif torch.backends.mps.is_available() and torch.backends.mps.is_built():\n",
    "        logging.info(\"MPS is available.\")\n",
    "        return torch.device(\"mps\")\n",
    "    logging.info(\"CUDA and MPS are not available. Using CPU.\")\n",
    "    return torch.device(\"cpu\")"
   ]
  },
  {
   "cell_type": "code",
   "execution_count": 3,
   "id": "e8b4de0a",
   "metadata": {},
   "outputs": [
    {
     "data": {
      "text/plain": [
       "device(type='cuda')"
      ]
     },
     "execution_count": 3,
     "metadata": {},
     "output_type": "execute_result"
    }
   ],
   "source": [
    "get_device()"
   ]
  },
  {
   "cell_type": "code",
   "execution_count": null,
   "id": "d4af82bf",
   "metadata": {},
   "outputs": [
    {
     "name": "stderr",
     "output_type": "stream",
     "text": [
      "You are using the default legacy behaviour of the <class 'transformers.models.t5.tokenization_t5.T5Tokenizer'>. This is expected, and simply means that the `legacy` (previous) behavior will be used so nothing changes for you. If you want to use the new behaviour, set `legacy=False`. This should only be set if you understand what it means, and thouroughly read the reason why this was added as explained in https://github.com/huggingface/transformers/pull/24565\n",
      "C:\\Users\\dunge\\Desktop\\Dev Workshop\\development-workshop\\.venv\\lib\\site-packages\\transformers\\utils\\generic.py:311: FutureWarning: `torch.utils._pytree._register_pytree_node` is deprecated. Please use `torch.utils._pytree.register_pytree_node` instead.\n",
      "  torch.utils._pytree._register_pytree_node(\n",
      "Special tokens have been added in the vocabulary, make sure the associated word embeddings are fine-tuned or trained.\n",
      "Special tokens have been added in the vocabulary, make sure the associated word embeddings are fine-tuned or trained.\n"
     ]
    }
   ],
   "source": [
    "class TransformersModel:\n",
    "    def __init__(self, model_name: str):\n",
    "        self.device = get_device()\n",
    "        logging.info(\"Loading model and tokenizer...\")\n",
    "        \n",
    "        self.tokenizer = AutoTokenizer.from_pretrained(model_name)\n",
    "        logging.info(\"Tokenizer loaded\")\n",
    "        \n",
    "        self.model = AutoModelForSeq2SeqLM.from_pretrained(model_name)\n",
    "        self.model.to(self.device)\n",
    "        logging.info(\"Model loaded\")\n",
    "    \n",
    "    def generate_response(self, text: str, max_length=32, num_beams=4):\n",
    "        inputs = self.tokenizer.encode(text, return_tensors=\"pt\").to(self.device)\n",
    "        outputs = self.model.generate(inputs, max_length=max_length, num_beams=num_beams, early_stopping=True)\n",
    "        response = self.tokenizer.decode(outputs[0].to(\"cpu\"))\n",
    "        return response.replace(\"<pad>\", \"\").replace(\"<s>\", \"\").replace(\"</s>\", \"\").strip()\n",
    "\n",
    "models = {\n",
    "    \"bigscience/T0_3B\" : TransformersModel(\"bigscience/T0_3B\"),\n",
    "    \"google/flan-t5-small\" : TransformersModel(\"google/flan-t5-small\"),\n",
    "    \"geektech/flan-t5-base-gpt4-relation\" : TransformersModel(\"geektech/flan-t5-base-gpt4-relation\"),\n",
    "}"
   ]
  },
  {
   "cell_type": "code",
   "execution_count": 10,
   "id": "f2ec5e6d",
   "metadata": {},
   "outputs": [
    {
     "name": "stdout",
     "output_type": "stream",
     "text": [
      "Model: bigscience/T0_3B\n",
      "Prompt 1 response: No studies were identified that met the inclusion criteria. It was not possible to review the quality of the evidence in the absence of studies eligible for inclusion in the review\n",
      "Prompt 2 response: Endovascular repair of abdominal aortic aneurysms\n",
      "Prompt 3 response: Elderly 65+ years old\n",
      "=====================================================================================\n",
      "Model: google/flan-t5-small\n",
      "Prompt 1 response: None of the above choices is possible according to the passage.\n",
      "Prompt 2 response: [[]] [[]] [[]] [[]] [[]] [[]] [[]] [[]] [[]] [[]] [[]] [[]] [[]] [[]] [[]] [[]]\n",
      "Prompt 3 response: Aged\n",
      "=====================================================================================\n",
      "Model: geektech/flan-t5-base-gpt4-relation\n",
      "Prompt 1 response: Age groups studied include: <unk>\n",
      "Prompt 2 response: Age group: Over 65<unk>year olds\n",
      "Prompt 3 response: Adults 20-30 years old, Elderly 65+ years old\n",
      "=====================================================================================\n"
     ]
    }
   ],
   "source": [
    "test_prompt_1 = \"\"\"You are supplied an article abstract formed as a JSON. Using the provided data, create a list of age groups which the article studied. DO NOT output any other text.\n",
    "                                             \n",
    "                                             \"abstract\": {\n",
    "      \"Background\": \"The UK prevalence of abdominal aortic aneurysm (AAA) is estimated at 4.9% in over 65‐year olds. Progressive and unpredictable enlargement can lead to rupture. Endovascular repair of AAAs involves a stent graft system being introduced via the femoral artery and manipulated within the aorta under radiological guidance. Following endograft deployment, a seal is formed at the proximal and distal landing zones to exclude the aneurysm sac from the circulation. With the increasing popularity of endovascular repair there has been an increase in the number of commercially available stent graft designs on the market. This is an update of the review first published in 2013.\",\n",
    "      \"Objectives\": \"This review aimed to assess the different stent graft types for endovascular repair of AAA.\",\n",
    "      \"Search methods\": \"The Cochrane Vascular Group Trials Search Co‐ordinator (TSC) searched the Specialised Register (last searched February 2015) and the Cochrane Register of Studies (2015, Issue 1). Trial databases were searched by the TSC for details of ongoing and unpublished studies.\",\n",
    "      \"Selection criteria\": \"All published and unpublished randomised controlled trials (RCTs) of stent graft types in the repair of AAAs were sought without language restriction and in consultation with the Cochrane Vascular Group TSC.\",\n",
    "      \"Data collection and analysis\": \"We planned to conduct data collection and analysis in accordance with the Cochrane Handbook for Systematic Reviews of Interventions .\",\n",
    "      \"Main results\": \"No studies were identified that met the inclusion criteria. It was not possible to review the quality of the evidence in the absence of studies eligible for inclusion in the review.\",\n",
    "      \"Authors' conclusions\": \"Unfortunately, no data exist regarding direct comparisons of the performance of different stent graft types. High quality randomised controlled trials evaluating stent graft types in abdominal endovascular aneurysm repair are required.\"\n",
    "    }\n",
    "                                             \"\"\"\n",
    "\n",
    "test_prompt_2 = \"\"\"You are supplied an article abstract formed as a JSON. Using the provided data, create a list of age groups which the article studied. DO NOT output any other text.\n",
    "                                             \n",
    "                                             \"abstract\": {\n",
    "      \"Background\": \"The UK prevalence of abdominal aortic aneurysm (AAA) is estimated at 4.9% in over 65‐year olds. Progressive and unpredictable enlargement can lead to rupture. Endovascular repair of AAAs involves a stent graft system being introduced via the femoral artery and manipulated within the aorta under radiological guidance. Following endograft deployment, a seal is formed at the proximal and distal landing zones to exclude the aneurysm sac from the circulation. With the increasing popularity of endovascular repair there has been an increase in the number of commercially available stent graft designs on the market. This is an update of the review first published in 2013.\",\n",
    "      }\n",
    "                                             \"\"\"\n",
    "\n",
    "test_prompt_3 = \"\"\"You are tasked with analyzing the abstract of a study. The abstract is provided below between the <abstract> HTML tags. Your goal is to extract and list the age groups mentioned in the abstract using the provided format. Do not include any explanation, additional text, or information outside the specified output format.\n",
    "\n",
    "Format Example: \"Teens 10-16 years old, Adults 20-30 years old, Elderly 65+ years old\"\n",
    "\n",
    "Abstract: <abstract>The UK prevalence of abdominal aortic aneurysm (AAA) is estimated at 4.9% in over 65‐year olds. Progressive and unpredictable enlargement can lead to rupture. Endovascular repair of AAAs involves a stent graft system being introduced via the femoral artery and manipulated within the aorta under radiological guidance. Following endograft deployment, a seal is formed at the proximal and distal landing zones to exclude the aneurysm sac from the circulation. With the increasing popularity of endovascular repair there has been an increase in the number of commercially available stent graft designs on the market. This is an update of the review first published in 2013.</abstract> \"\"\"\n",
    "\n",
    "\n",
    "for model in models.keys():\n",
    "    print(f\"Model: {model}\")\n",
    "    print(f\"Prompt 1 response: {models[model].generate_response(test_prompt_1, max_length=520, num_beams=10)}\")\n",
    "    print(f\"Prompt 2 response: {models[model].generate_response(test_prompt_2, max_length=520, num_beams=10)}\")\n",
    "    print(f\"Prompt 3 response: {models[model].generate_response(test_prompt_3, max_length=520, num_beams=10)}\")\n",
    "    print(\"=====================================================================================\")\n"
   ]
  },
  {
   "cell_type": "code",
   "execution_count": null,
   "id": "d1a211a4",
   "metadata": {},
   "outputs": [
    {
     "data": {
      "text/plain": [
       "'A review of the different stent graft types for endovascular repair of AAAs.'"
      ]
     },
     "execution_count": 28,
     "metadata": {},
     "output_type": "execute_result"
    }
   ],
   "source": [
    "models[\"geektech/flan-t5-base-gpt4-relation\"].generate_response(\"\"\"You are an expert article reviewer. You are supplied an article abstract formed as a JSON. Using the provided data, create a comma separated list of age groups to which the article applies. This list should follow the rules of the POPULATION part of PICO eligibility criteria. Do not output any other text.\n",
    "                                             \n",
    "                                             \"abstract\": {\n",
    "      \"Background\": \"The UK prevalence of abdominal aortic aneurysm (AAA) is estimated at 4.9% in over 65‐year olds. Progressive and unpredictable enlargement can lead to rupture. Endovascular repair of AAAs involves a stent graft system being introduced via the femoral artery and manipulated within the aorta under radiological guidance. Following endograft deployment, a seal is formed at the proximal and distal landing zones to exclude the aneurysm sac from the circulation. With the increasing popularity of endovascular repair there has been an increase in the number of commercially available stent graft designs on the market. This is an update of the review first published in 2013.\",\n",
    "      \"Objectives\": \"This review aimed to assess the different stent graft types for endovascular repair of AAA.\",\n",
    "      \"Search methods\": \"The Cochrane Vascular Group Trials Search Co‐ordinator (TSC) searched the Specialised Register (last searched February 2015) and the Cochrane Register of Studies (2015, Issue 1). Trial databases were searched by the TSC for details of ongoing and unpublished studies.\",\n",
    "      \"Selection criteria\": \"All published and unpublished randomised controlled trials (RCTs) of stent graft types in the repair of AAAs were sought without language restriction and in consultation with the Cochrane Vascular Group TSC.\",\n",
    "      \"Data collection and analysis\": \"We planned to conduct data collection and analysis in accordance with the Cochrane Handbook for Systematic Reviews of Interventions .\",\n",
    "      \"Main results\": \"No studies were identified that met the inclusion criteria. It was not possible to review the quality of the evidence in the absence of studies eligible for inclusion in the review.\",\n",
    "      \"Authors' conclusions\": \"Unfortunately, no data exist regarding direct comparisons of the performance of different stent graft types. High quality randomised controlled trials evaluating stent graft types in abdominal endovascular aneurysm repair are required.\"\n",
    "    }\n",
    "                                             \"\"\")"
   ]
  },
  {
   "cell_type": "code",
   "execution_count": null,
   "id": "b8dc36cf",
   "metadata": {},
   "outputs": [
    {
     "data": {
      "text/plain": [
       "'Adults 20-30 years old, Elderly 65+ years old'"
      ]
     },
     "execution_count": 6,
     "metadata": {},
     "output_type": "execute_result"
    }
   ],
   "source": [
    "models[\"geektech/flan-t5-base-gpt4-relation\"].generate_response()"
   ]
  },
  {
   "cell_type": "code",
   "execution_count": null,
   "id": "fed0dd74",
   "metadata": {},
   "outputs": [],
   "source": []
  }
 ],
 "metadata": {
  "kernelspec": {
   "display_name": "Python 3 (ipykernel)",
   "language": "python",
   "name": "python3"
  },
  "language_info": {
   "codemirror_mode": {
    "name": "ipython",
    "version": 3
   },
   "file_extension": ".py",
   "mimetype": "text/x-python",
   "name": "python",
   "nbconvert_exporter": "python",
   "pygments_lexer": "ipython3",
   "version": "3.10.11"
  }
 },
 "nbformat": 4,
 "nbformat_minor": 5
}

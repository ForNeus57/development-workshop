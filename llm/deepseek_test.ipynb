{
 "cells": [
  {
   "cell_type": "code",
   "execution_count": null,
   "id": "00de6642",
   "metadata": {},
   "outputs": [
    {
     "name": "stdout",
     "output_type": "stream",
     "text": [
      "Looking in indexes: https://download.pytorch.org/whl/cu118\n",
      "Requirement already satisfied: torch in c:\\users\\dunge\\desktop\\dev workshop\\development-workshop\\.venv\\lib\\site-packages (2.6.0+cu118)\n",
      "Requirement already satisfied: torchvision in c:\\users\\dunge\\desktop\\dev workshop\\development-workshop\\.venv\\lib\\site-packages (0.21.0+cu118)\n",
      "Requirement already satisfied: torchaudio in c:\\users\\dunge\\desktop\\dev workshop\\development-workshop\\.venv\\lib\\site-packages (2.6.0+cu118)\n",
      "Requirement already satisfied: jinja2 in c:\\users\\dunge\\desktop\\dev workshop\\development-workshop\\.venv\\lib\\site-packages (from torch) (3.1.6)\n",
      "Requirement already satisfied: fsspec in c:\\users\\dunge\\desktop\\dev workshop\\development-workshop\\.venv\\lib\\site-packages (from torch) (2025.3.2)\n",
      "Requirement already satisfied: networkx in c:\\users\\dunge\\desktop\\dev workshop\\development-workshop\\.venv\\lib\\site-packages (from torch) (3.4.2)\n",
      "Requirement already satisfied: filelock in c:\\users\\dunge\\desktop\\dev workshop\\development-workshop\\.venv\\lib\\site-packages (from torch) (3.18.0)\n",
      "Requirement already satisfied: typing-extensions>=4.10.0 in c:\\users\\dunge\\desktop\\dev workshop\\development-workshop\\.venv\\lib\\site-packages (from torch) (4.13.2)\n",
      "Requirement already satisfied: sympy==1.13.1 in c:\\users\\dunge\\desktop\\dev workshop\\development-workshop\\.venv\\lib\\site-packages (from torch) (1.13.1)\n",
      "Requirement already satisfied: mpmath<1.4,>=1.1.0 in c:\\users\\dunge\\desktop\\dev workshop\\development-workshop\\.venv\\lib\\site-packages (from sympy==1.13.1->torch) (1.3.0)\n",
      "Requirement already satisfied: pillow!=8.3.*,>=5.3.0 in c:\\users\\dunge\\desktop\\dev workshop\\development-workshop\\.venv\\lib\\site-packages (from torchvision) (11.0.0)\n",
      "Requirement already satisfied: numpy in c:\\users\\dunge\\desktop\\dev workshop\\development-workshop\\.venv\\lib\\site-packages (from torchvision) (1.24.4)\n",
      "Requirement already satisfied: MarkupSafe>=2.0 in c:\\users\\dunge\\desktop\\dev workshop\\development-workshop\\.venv\\lib\\site-packages (from jinja2->torch) (3.0.2)\n"
     ]
    }
   ],
   "source": [
    "# Install pytorch with cuda\n",
    "\n",
    "! pip install torch torchvision torchaudio --index-url https://download.pytorch.org/whl/cu118 --quiet"
   ]
  },
  {
   "cell_type": "code",
   "execution_count": null,
   "id": "724aede1",
   "metadata": {},
   "outputs": [
    {
     "name": "stdout",
     "output_type": "stream",
     "text": [
      "Requirement already satisfied: transformers in c:\\users\\dunge\\desktop\\dev workshop\\development-workshop\\.venv\\lib\\site-packages (4.34.0)\n",
      "Collecting transformers\n",
      "  Using cached transformers-4.51.3-py3-none-any.whl (10.4 MB)\n",
      "Requirement already satisfied: requests in c:\\users\\dunge\\desktop\\dev workshop\\development-workshop\\.venv\\lib\\site-packages (from transformers) (2.31.0)\n",
      "Requirement already satisfied: pyyaml>=5.1 in c:\\users\\dunge\\desktop\\dev workshop\\development-workshop\\.venv\\lib\\site-packages (from transformers) (6.0.2)\n",
      "Requirement already satisfied: regex!=2019.12.17 in c:\\users\\dunge\\desktop\\dev workshop\\development-workshop\\.venv\\lib\\site-packages (from transformers) (2024.11.6)\n",
      "Requirement already satisfied: filelock in c:\\users\\dunge\\desktop\\dev workshop\\development-workshop\\.venv\\lib\\site-packages (from transformers) (3.18.0)\n",
      "Requirement already satisfied: safetensors>=0.4.3 in c:\\users\\dunge\\desktop\\dev workshop\\development-workshop\\.venv\\lib\\site-packages (from transformers) (0.5.3)\n",
      "Requirement already satisfied: tokenizers<0.22,>=0.21 in c:\\users\\dunge\\desktop\\dev workshop\\development-workshop\\.venv\\lib\\site-packages (from transformers) (0.21.1)\n",
      "Requirement already satisfied: huggingface-hub<1.0,>=0.30.0 in c:\\users\\dunge\\desktop\\dev workshop\\development-workshop\\.venv\\lib\\site-packages (from transformers) (0.31.1)\n",
      "Requirement already satisfied: packaging>=20.0 in c:\\users\\dunge\\desktop\\dev workshop\\development-workshop\\.venv\\lib\\site-packages (from transformers) (25.0)\n",
      "Requirement already satisfied: numpy>=1.17 in c:\\users\\dunge\\desktop\\dev workshop\\development-workshop\\.venv\\lib\\site-packages (from transformers) (1.24.4)\n",
      "Requirement already satisfied: tqdm>=4.27 in c:\\users\\dunge\\desktop\\dev workshop\\development-workshop\\.venv\\lib\\site-packages (from transformers) (4.67.1)\n",
      "Requirement already satisfied: typing-extensions>=3.7.4.3 in c:\\users\\dunge\\desktop\\dev workshop\\development-workshop\\.venv\\lib\\site-packages (from huggingface-hub<1.0,>=0.30.0->transformers) (4.13.2)\n",
      "Requirement already satisfied: fsspec>=2023.5.0 in c:\\users\\dunge\\desktop\\dev workshop\\development-workshop\\.venv\\lib\\site-packages (from huggingface-hub<1.0,>=0.30.0->transformers) (2025.3.2)\n",
      "Requirement already satisfied: colorama in c:\\users\\dunge\\desktop\\dev workshop\\development-workshop\\.venv\\lib\\site-packages (from tqdm>=4.27->transformers) (0.4.6)\n",
      "Requirement already satisfied: certifi>=2017.4.17 in c:\\users\\dunge\\desktop\\dev workshop\\development-workshop\\.venv\\lib\\site-packages (from requests->transformers) (2025.4.26)\n",
      "Requirement already satisfied: urllib3<3,>=1.21.1 in c:\\users\\dunge\\desktop\\dev workshop\\development-workshop\\.venv\\lib\\site-packages (from requests->transformers) (2.4.0)\n",
      "Requirement already satisfied: charset-normalizer<4,>=2 in c:\\users\\dunge\\desktop\\dev workshop\\development-workshop\\.venv\\lib\\site-packages (from requests->transformers) (3.4.1)\n",
      "Requirement already satisfied: idna<4,>=2.5 in c:\\users\\dunge\\desktop\\dev workshop\\development-workshop\\.venv\\lib\\site-packages (from requests->transformers) (3.10)\n",
      "Installing collected packages: transformers\n",
      "  Attempting uninstall: transformers\n",
      "    Found existing installation: transformers 4.34.0\n",
      "    Uninstalling transformers-4.34.0:\n",
      "      Successfully uninstalled transformers-4.34.0\n",
      "Successfully installed transformers-4.51.3\n"
     ]
    },
    {
     "name": "stderr",
     "output_type": "stream",
     "text": [
      "\n",
      "[notice] A new release of pip is available: 23.0.1 -> 25.1.1\n",
      "[notice] To update, run: python.exe -m pip install --upgrade pip\n"
     ]
    }
   ],
   "source": [
    "! pip install -U transformers --quiet"
   ]
  },
  {
   "cell_type": "code",
   "execution_count": 1,
   "id": "2f6a2191",
   "metadata": {},
   "outputs": [],
   "source": [
    "# from transformers import AutoTokenizer, AutoModelForSeq2SeqLM, AutoModelForCausalLM\n",
    "import transformers\n",
    "import logging\n",
    "import torch"
   ]
  },
  {
   "cell_type": "code",
   "execution_count": 2,
   "id": "7d38309e",
   "metadata": {},
   "outputs": [],
   "source": [
    "def get_device():\n",
    "    if torch.cuda.is_available():\n",
    "        logging.info(\"CUDA is available.\")\n",
    "        return torch.device(\"cuda\")\n",
    "    elif torch.backends.mps.is_available() and torch.backends.mps.is_built():\n",
    "        logging.info(\"MPS is available.\")\n",
    "        return torch.device(\"mps\")\n",
    "    logging.info(\"CUDA and MPS are not available. Using CPU.\")\n",
    "    return torch.device(\"cpu\")"
   ]
  },
  {
   "cell_type": "code",
   "execution_count": 3,
   "id": "e8b4de0a",
   "metadata": {},
   "outputs": [
    {
     "data": {
      "text/plain": [
       "device(type='cuda')"
      ]
     },
     "execution_count": 3,
     "metadata": {},
     "output_type": "execute_result"
    }
   ],
   "source": [
    "get_device()"
   ]
  },
  {
   "cell_type": "code",
   "execution_count": 4,
   "id": "042a6a28",
   "metadata": {},
   "outputs": [
    {
     "data": {
      "application/vnd.jupyter.widget-view+json": {
       "model_id": "111a13f71fb541d5be2df0e75c7ff7c5",
       "version_major": 2,
       "version_minor": 0
      },
      "text/plain": [
       "model.safetensors:   0%|          | 0.00/3.55G [00:00<?, ?B/s]"
      ]
     },
     "metadata": {},
     "output_type": "display_data"
    },
    {
     "name": "stderr",
     "output_type": "stream",
     "text": [
      "C:\\Users\\dunge\\Desktop\\Dev Workshop\\development-workshop\\.venv\\lib\\site-packages\\huggingface_hub\\file_download.py:143: UserWarning: `huggingface_hub` cache-system uses symlinks by default to efficiently store duplicated files but your machine does not support them in C:\\Users\\dunge\\.cache\\huggingface\\hub\\models--deepseek-ai--DeepSeek-R1-Distill-Qwen-1.5B. Caching files will still work but in a degraded version that might require more space on your disk. This warning can be disabled by setting the `HF_HUB_DISABLE_SYMLINKS_WARNING` environment variable. For more details, see https://huggingface.co/docs/huggingface_hub/how-to-cache#limitations.\n",
      "To support symlinks on Windows, you either need to activate Developer Mode or to run Python as an administrator. In order to activate developer mode, see this article: https://docs.microsoft.com/en-us/windows/apps/get-started/enable-your-device-for-development\n",
      "  warnings.warn(message)\n",
      "Sliding Window Attention is enabled but not implemented for `sdpa`; unexpected results may be encountered.\n"
     ]
    },
    {
     "data": {
      "application/vnd.jupyter.widget-view+json": {
       "model_id": "6d2fcf042ed04a01b99a6978717e6ca5",
       "version_major": 2,
       "version_minor": 0
      },
      "text/plain": [
       "generation_config.json:   0%|          | 0.00/181 [00:00<?, ?B/s]"
      ]
     },
     "metadata": {},
     "output_type": "display_data"
    },
    {
     "name": "stderr",
     "output_type": "stream",
     "text": [
      "Device set to use cuda:0\n"
     ]
    }
   ],
   "source": [
    "class LLModel:\n",
    "    def __init__(self, model_path):\n",
    "        self.model_id = model_path\n",
    "        self.pipeline = transformers.pipeline(\n",
    "            \"text-generation\",\n",
    "            model=self.model_id,\n",
    "            model_kwargs={\n",
    "                \"torch_dtype\": torch.float32,\n",
    "                # \"quantization_config\": {\"load_in_4bit\": True},\n",
    "                # \"low_cpu_mem_usage\": True,\n",
    "            },\n",
    "        )\n",
    "        self.terminators = [\n",
    "            self.pipeline.tokenizer.eos_token_id,\n",
    "            self.pipeline.tokenizer.convert_tokens_to_ids(\"\"),\n",
    "        ]\n",
    "        # Get the EOS token ID from the tokenizerbot.chatbot()\n",
    "        self.eos_token_id = self.pipeline.tokenizer.eos_token_id\n",
    "\n",
    "    def get_response(\n",
    "          self, query, message_history=[], max_tokens=4096, temperature=0.6, top_p=0.9\n",
    "      ):\n",
    "        user_prompt = message_history + [{\"role\": \"user\", \"content\": query}]\n",
    "        prompt = self.pipeline.tokenizer.apply_chat_template(\n",
    "            user_prompt, tokenize=False, add_generation_prompt=True\n",
    "        )\n",
    "        # Explicitly pass the eos_token_id to the generate function\n",
    "        outputs = self.pipeline(\n",
    "            prompt,\n",
    "            max_new_tokens=max_tokens,\n",
    "            eos_token_id=self.eos_token_id,  # Pass the eos_token_id here\n",
    "            do_sample=True,\n",
    "            temperature=temperature,\n",
    "            top_p=top_p,\n",
    "        )\n",
    "        response = outputs[0][\"generated_text\"][len(prompt):]\n",
    "        return response, user_prompt + [{\"role\": \"assistant\", \"content\": response}]\n",
    "\n",
    "    def chatbot(self, user_input=\"\", system_instructions=\"\"):\n",
    "        conversation = [{\"role\": \"system\", \"content\": system_instructions}]\n",
    "        response, conversation = self.get_response(user_input, conversation)\n",
    "        return response\n",
    "\n",
    "MODEL = \"deepseek-ai/DeepSeek-R1-Distill-Qwen-1.5B\"\n",
    "# I am not shure, but I think that it requires attention masks\n",
    "bot = LLModel(MODEL)"
   ]
  },
  {
   "cell_type": "code",
   "execution_count": 5,
   "id": "5338b42b",
   "metadata": {},
   "outputs": [
    {
     "data": {
      "text/plain": [
       "('Okay, so I\\'m trying to figure out why the chicken crossed the road. I know it\\'s a classic riddle, but I want to understand the different ways people might answer it. Let me think through this step by step.\\n\\nFirst, I remember that the classic riddle is usually answered with a pun on \"why\" because \"why\" is a play on words. So, the answer is usually something like, \"Because it\\'s chicken,\" because \"chicken\" starts with \"ch\" and \"why\" starts with \"w,\" but the word \"chicken\" has a \"y\" sound which makes it similar to \"why.\" That\\'s a common answer.\\n\\nBut I think there are other possible answers too. Maybe some people think about the chicken as a symbol of weakness or weakness in the context of crossing the road. So, they might say, \"Because it\\'s weak to cross the road,\" implying that chickens are not very strong or that they don\\'t handle obstacles well. That\\'s another common response.\\n\\nThen there\\'s the idea that maybe the chicken is trying to avoid being caught by the dog. So, people might say, \"Because it\\'s trying to avoid being caught by the dog,\" which is a play on words about the dog and the chicken crossing the road. It\\'s a bit of a stretch, but it\\'s another valid reason.\\n\\nI wonder if there are other reasons people might think of. Maybe something about the chicken\\'s behavior? Like, if a chicken isn\\'t a good driver, but I think the more common answers are the ones I mentioned before. Alternatively, some people might think about the chicken as a symbol of something else, like being cautious or being a symbol of something positive, but I don\\'t think that\\'s a common answer.\\n\\nI also remember that sometimes people get into the weeds and come up with more complicated or unexpected answers. For example, someone might say, \"Because it\\'s a chicken, it\\'s always chicken, so it\\'s chicken crossing the road.\" That\\'s a bit of a pun and a bit more wordplay, but it\\'s still a valid answer.\\n\\nAnother angle could be that the chicken is trying to escape, so they cross the road. That\\'s similar to the \"why it\\'s chicken\" answer but phrased differently. Or maybe the chicken is trying to get away from a dog, which ties into the \"why it\\'s weak to cross the road\" answer.\\n\\nI think the key here is that the riddle relies on wordplay and puns, so people often use these to come up with clever or humorous answers. The classic one is the \"chicken\" pun, but the \"why it\\'s chicken\" is also a common one. The \"why it\\'s weak\" is another, but it\\'s a bit less common. The \"why it\\'s chicken\" is more of a play on the word \"chicken\" itself.\\n\\nI also wonder if there are any other possible reasons, like the chicken being a symbol of something else, or maybe the chicken is trying to avoid something else, but those seem less likely. The main answers are the ones I thought of earlier.\\n\\nSo, to sum up, the possible answers to why the chicken crosses the road are:\\n\\n1. Because it\\'s chicken (pun on \"chicken\" and \"why\").\\n2. Because it\\'s weak to cross the road.\\n3. Because it\\'s trying to avoid being caught by the dog.\\n4. Because it\\'s a chicken, it\\'s always chicken, so it\\'s chicken crossing the road.\\n\\nI think these are the main ones, but I\\'m not entirely sure if there are others. Maybe some people think about the chicken as a symbol of something else, but I don\\'t recall any other common answers beyond the three I mentioned. So, I\\'ll go with those as the possible answers.\\n</think>\\n\\nThe riddle \"Why did the chicken cross the road?\" has several common and clever answers, primarily based on wordplay and puns. Here are the main responses:\\n\\n1. **Because it\\'s chicken (pun on \"chicken\" and \"why\"):** This answer is a classic pun where \"chicken\" starts with \"ch,\" and \"why\" starts with \"w,\" creating a humorous twist.\\n\\n2. **Because it\\'s weak to cross the road:** This answer humorously suggests that chickens are not very strong or are cautious, implying they might not handle obstacles well.\\n\\n3. **Because it\\'s trying to avoid being caught by the dog:** This answer plays on the idea that chickens are not very good drivers, so they cross the road to avoid being caught by a dog.\\n\\n4. **Because it\\'s a chicken, it\\'s always chicken, so it\\'s chicken crossing the road:** This is a playful phrase that humorously repeats the chicken symbol.\\n\\nThese answers highlight the riddle\\'s tendency to use wordplay and puns to create clever and humorous responses.',\n",
       " [{'role': 'user', 'content': 'Why did the chicken cross the road'},\n",
       "  {'role': 'assistant',\n",
       "   'content': 'Okay, so I\\'m trying to figure out why the chicken crossed the road. I know it\\'s a classic riddle, but I want to understand the different ways people might answer it. Let me think through this step by step.\\n\\nFirst, I remember that the classic riddle is usually answered with a pun on \"why\" because \"why\" is a play on words. So, the answer is usually something like, \"Because it\\'s chicken,\" because \"chicken\" starts with \"ch\" and \"why\" starts with \"w,\" but the word \"chicken\" has a \"y\" sound which makes it similar to \"why.\" That\\'s a common answer.\\n\\nBut I think there are other possible answers too. Maybe some people think about the chicken as a symbol of weakness or weakness in the context of crossing the road. So, they might say, \"Because it\\'s weak to cross the road,\" implying that chickens are not very strong or that they don\\'t handle obstacles well. That\\'s another common response.\\n\\nThen there\\'s the idea that maybe the chicken is trying to avoid being caught by the dog. So, people might say, \"Because it\\'s trying to avoid being caught by the dog,\" which is a play on words about the dog and the chicken crossing the road. It\\'s a bit of a stretch, but it\\'s another valid reason.\\n\\nI wonder if there are other reasons people might think of. Maybe something about the chicken\\'s behavior? Like, if a chicken isn\\'t a good driver, but I think the more common answers are the ones I mentioned before. Alternatively, some people might think about the chicken as a symbol of something else, like being cautious or being a symbol of something positive, but I don\\'t think that\\'s a common answer.\\n\\nI also remember that sometimes people get into the weeds and come up with more complicated or unexpected answers. For example, someone might say, \"Because it\\'s a chicken, it\\'s always chicken, so it\\'s chicken crossing the road.\" That\\'s a bit of a pun and a bit more wordplay, but it\\'s still a valid answer.\\n\\nAnother angle could be that the chicken is trying to escape, so they cross the road. That\\'s similar to the \"why it\\'s chicken\" answer but phrased differently. Or maybe the chicken is trying to get away from a dog, which ties into the \"why it\\'s weak to cross the road\" answer.\\n\\nI think the key here is that the riddle relies on wordplay and puns, so people often use these to come up with clever or humorous answers. The classic one is the \"chicken\" pun, but the \"why it\\'s chicken\" is also a common one. The \"why it\\'s weak\" is another, but it\\'s a bit less common. The \"why it\\'s chicken\" is more of a play on the word \"chicken\" itself.\\n\\nI also wonder if there are any other possible reasons, like the chicken being a symbol of something else, or maybe the chicken is trying to avoid something else, but those seem less likely. The main answers are the ones I thought of earlier.\\n\\nSo, to sum up, the possible answers to why the chicken crosses the road are:\\n\\n1. Because it\\'s chicken (pun on \"chicken\" and \"why\").\\n2. Because it\\'s weak to cross the road.\\n3. Because it\\'s trying to avoid being caught by the dog.\\n4. Because it\\'s a chicken, it\\'s always chicken, so it\\'s chicken crossing the road.\\n\\nI think these are the main ones, but I\\'m not entirely sure if there are others. Maybe some people think about the chicken as a symbol of something else, but I don\\'t recall any other common answers beyond the three I mentioned. So, I\\'ll go with those as the possible answers.\\n</think>\\n\\nThe riddle \"Why did the chicken cross the road?\" has several common and clever answers, primarily based on wordplay and puns. Here are the main responses:\\n\\n1. **Because it\\'s chicken (pun on \"chicken\" and \"why\"):** This answer is a classic pun where \"chicken\" starts with \"ch,\" and \"why\" starts with \"w,\" creating a humorous twist.\\n\\n2. **Because it\\'s weak to cross the road:** This answer humorously suggests that chickens are not very strong or are cautious, implying they might not handle obstacles well.\\n\\n3. **Because it\\'s trying to avoid being caught by the dog:** This answer plays on the idea that chickens are not very good drivers, so they cross the road to avoid being caught by a dog.\\n\\n4. **Because it\\'s a chicken, it\\'s always chicken, so it\\'s chicken crossing the road:** This is a playful phrase that humorously repeats the chicken symbol.\\n\\nThese answers highlight the riddle\\'s tendency to use wordplay and puns to create clever and humorous responses.'}])"
      ]
     },
     "execution_count": 5,
     "metadata": {},
     "output_type": "execute_result"
    }
   ],
   "source": [
    "bot.get_response(\"Why did the chicken cross the road\")"
   ]
  },
  {
   "cell_type": "code",
   "execution_count": null,
   "id": "6e5f77c4",
   "metadata": {},
   "outputs": [],
   "source": []
  },
  {
   "cell_type": "code",
   "execution_count": 15,
   "id": "d4af82bf",
   "metadata": {},
   "outputs": [
    {
     "ename": "KeyError",
     "evalue": "'qwen2'",
     "output_type": "error",
     "traceback": [
      "\u001b[1;31m---------------------------------------------------------------------------\u001b[0m",
      "\u001b[1;31mKeyError\u001b[0m                                  Traceback (most recent call last)",
      "Cell \u001b[1;32mIn[15], line 24\u001b[0m\n\u001b[0;32m     17\u001b[0m         response \u001b[38;5;241m=\u001b[39m \u001b[38;5;28mself\u001b[39m\u001b[38;5;241m.\u001b[39mtokenizer\u001b[38;5;241m.\u001b[39mdecode(outputs[\u001b[38;5;241m0\u001b[39m]\u001b[38;5;241m.\u001b[39mto(\u001b[38;5;124m\"\u001b[39m\u001b[38;5;124mcpu\u001b[39m\u001b[38;5;124m\"\u001b[39m))\n\u001b[0;32m     18\u001b[0m         \u001b[38;5;28;01mreturn\u001b[39;00m response\u001b[38;5;241m.\u001b[39mreplace(\u001b[38;5;124m\"\u001b[39m\u001b[38;5;124m<pad>\u001b[39m\u001b[38;5;124m\"\u001b[39m, \u001b[38;5;124m\"\u001b[39m\u001b[38;5;124m\"\u001b[39m)\u001b[38;5;241m.\u001b[39mreplace(\u001b[38;5;124m\"\u001b[39m\u001b[38;5;124m<s>\u001b[39m\u001b[38;5;124m\"\u001b[39m, \u001b[38;5;124m\"\u001b[39m\u001b[38;5;124m\"\u001b[39m)\u001b[38;5;241m.\u001b[39mreplace(\u001b[38;5;124m\"\u001b[39m\u001b[38;5;124m</s>\u001b[39m\u001b[38;5;124m\"\u001b[39m, \u001b[38;5;124m\"\u001b[39m\u001b[38;5;124m\"\u001b[39m)\u001b[38;5;241m.\u001b[39mstrip()\n\u001b[0;32m     20\u001b[0m models \u001b[38;5;241m=\u001b[39m {\n\u001b[0;32m     21\u001b[0m     \u001b[38;5;66;03m# \"bigscience/T0_3B\" : TransformersModel(\"bigscience/T0_3B\"),\u001b[39;00m\n\u001b[0;32m     22\u001b[0m     \u001b[38;5;66;03m# \"google/flan-t5-small\" : TransformersModel(\"google/flan-t5-small\"),\u001b[39;00m\n\u001b[0;32m     23\u001b[0m     \u001b[38;5;66;03m# \"google/flan-t5-base\" : TransformersModel(\"google/flan-t5-base\"),\u001b[39;00m\n\u001b[1;32m---> 24\u001b[0m     \u001b[38;5;124m\"\u001b[39m\u001b[38;5;124mdeepseek-ai/DeepSeek-R1-Distill-Qwen-1.5B\u001b[39m\u001b[38;5;124m\"\u001b[39m : \u001b[43mTransformersModel\u001b[49m\u001b[43m(\u001b[49m\u001b[38;5;124;43m\"\u001b[39;49m\u001b[38;5;124;43mdeepseek-ai/DeepSeek-R1-Distill-Qwen-1.5B\u001b[39;49m\u001b[38;5;124;43m\"\u001b[39;49m\u001b[43m)\u001b[49m,\n\u001b[0;32m     25\u001b[0m     \u001b[38;5;66;03m# \"geektech/flan-t5-base-gpt4-relation\" : TransformersModel(\"geektech/flan-t5-base-gpt4-relation\"),\u001b[39;00m\n\u001b[0;32m     26\u001b[0m }\n",
      "Cell \u001b[1;32mIn[15], line 10\u001b[0m, in \u001b[0;36mTransformersModel.__init__\u001b[1;34m(self, model_name)\u001b[0m\n\u001b[0;32m      7\u001b[0m logging\u001b[38;5;241m.\u001b[39minfo(\u001b[38;5;124m\"\u001b[39m\u001b[38;5;124mTokenizer loaded\u001b[39m\u001b[38;5;124m\"\u001b[39m)\n\u001b[0;32m      9\u001b[0m \u001b[38;5;66;03m# self.model = AutoModelForSeq2SeqLM.from_pretrained(model_name)\u001b[39;00m\n\u001b[1;32m---> 10\u001b[0m \u001b[38;5;28mself\u001b[39m\u001b[38;5;241m.\u001b[39mmodel \u001b[38;5;241m=\u001b[39m \u001b[43mAutoModelForCausalLM\u001b[49m\u001b[38;5;241;43m.\u001b[39;49m\u001b[43mfrom_pretrained\u001b[49m\u001b[43m(\u001b[49m\u001b[43mmodel_name\u001b[49m\u001b[43m)\u001b[49m\n\u001b[0;32m     11\u001b[0m \u001b[38;5;28mself\u001b[39m\u001b[38;5;241m.\u001b[39mmodel\u001b[38;5;241m.\u001b[39mto(\u001b[38;5;28mself\u001b[39m\u001b[38;5;241m.\u001b[39mdevice)\n\u001b[0;32m     12\u001b[0m logging\u001b[38;5;241m.\u001b[39minfo(\u001b[38;5;124m\"\u001b[39m\u001b[38;5;124mModel loaded\u001b[39m\u001b[38;5;124m\"\u001b[39m)\n",
      "File \u001b[1;32m~\\Desktop\\Dev Workshop\\development-workshop\\.venv\\lib\\site-packages\\transformers\\models\\auto\\auto_factory.py:525\u001b[0m, in \u001b[0;36m_BaseAutoModelClass.from_pretrained\u001b[1;34m(cls, pretrained_model_name_or_path, *model_args, **kwargs)\u001b[0m\n\u001b[0;32m    522\u001b[0m \u001b[38;5;28;01mif\u001b[39;00m kwargs\u001b[38;5;241m.\u001b[39mget(\u001b[38;5;124m\"\u001b[39m\u001b[38;5;124mquantization_config\u001b[39m\u001b[38;5;124m\"\u001b[39m, \u001b[38;5;28;01mNone\u001b[39;00m) \u001b[38;5;129;01mis\u001b[39;00m \u001b[38;5;129;01mnot\u001b[39;00m \u001b[38;5;28;01mNone\u001b[39;00m:\n\u001b[0;32m    523\u001b[0m     _ \u001b[38;5;241m=\u001b[39m kwargs\u001b[38;5;241m.\u001b[39mpop(\u001b[38;5;124m\"\u001b[39m\u001b[38;5;124mquantization_config\u001b[39m\u001b[38;5;124m\"\u001b[39m)\n\u001b[1;32m--> 525\u001b[0m config, kwargs \u001b[38;5;241m=\u001b[39m AutoConfig\u001b[38;5;241m.\u001b[39mfrom_pretrained(\n\u001b[0;32m    526\u001b[0m     pretrained_model_name_or_path,\n\u001b[0;32m    527\u001b[0m     return_unused_kwargs\u001b[38;5;241m=\u001b[39m\u001b[38;5;28;01mTrue\u001b[39;00m,\n\u001b[0;32m    528\u001b[0m     trust_remote_code\u001b[38;5;241m=\u001b[39mtrust_remote_code,\n\u001b[0;32m    529\u001b[0m     code_revision\u001b[38;5;241m=\u001b[39mcode_revision,\n\u001b[0;32m    530\u001b[0m     _commit_hash\u001b[38;5;241m=\u001b[39mcommit_hash,\n\u001b[0;32m    531\u001b[0m     \u001b[38;5;241m*\u001b[39m\u001b[38;5;241m*\u001b[39mhub_kwargs,\n\u001b[0;32m    532\u001b[0m     \u001b[38;5;241m*\u001b[39m\u001b[38;5;241m*\u001b[39mkwargs,\n\u001b[0;32m    533\u001b[0m )\n\u001b[0;32m    535\u001b[0m \u001b[38;5;66;03m# if torch_dtype=auto was passed here, ensure to pass it on\u001b[39;00m\n\u001b[0;32m    536\u001b[0m \u001b[38;5;28;01mif\u001b[39;00m kwargs_orig\u001b[38;5;241m.\u001b[39mget(\u001b[38;5;124m\"\u001b[39m\u001b[38;5;124mtorch_dtype\u001b[39m\u001b[38;5;124m\"\u001b[39m, \u001b[38;5;28;01mNone\u001b[39;00m) \u001b[38;5;241m==\u001b[39m \u001b[38;5;124m\"\u001b[39m\u001b[38;5;124mauto\u001b[39m\u001b[38;5;124m\"\u001b[39m:\n",
      "File \u001b[1;32m~\\Desktop\\Dev Workshop\\development-workshop\\.venv\\lib\\site-packages\\transformers\\models\\auto\\configuration_auto.py:1050\u001b[0m, in \u001b[0;36mAutoConfig.from_pretrained\u001b[1;34m(cls, pretrained_model_name_or_path, **kwargs)\u001b[0m\n\u001b[0;32m   1048\u001b[0m     \u001b[38;5;28;01mreturn\u001b[39;00m config_class\u001b[38;5;241m.\u001b[39mfrom_pretrained(pretrained_model_name_or_path, \u001b[38;5;241m*\u001b[39m\u001b[38;5;241m*\u001b[39mkwargs)\n\u001b[0;32m   1049\u001b[0m \u001b[38;5;28;01melif\u001b[39;00m \u001b[38;5;124m\"\u001b[39m\u001b[38;5;124mmodel_type\u001b[39m\u001b[38;5;124m\"\u001b[39m \u001b[38;5;129;01min\u001b[39;00m config_dict:\n\u001b[1;32m-> 1050\u001b[0m     config_class \u001b[38;5;241m=\u001b[39m \u001b[43mCONFIG_MAPPING\u001b[49m\u001b[43m[\u001b[49m\u001b[43mconfig_dict\u001b[49m\u001b[43m[\u001b[49m\u001b[38;5;124;43m\"\u001b[39;49m\u001b[38;5;124;43mmodel_type\u001b[39;49m\u001b[38;5;124;43m\"\u001b[39;49m\u001b[43m]\u001b[49m\u001b[43m]\u001b[49m\n\u001b[0;32m   1051\u001b[0m     \u001b[38;5;28;01mreturn\u001b[39;00m config_class\u001b[38;5;241m.\u001b[39mfrom_dict(config_dict, \u001b[38;5;241m*\u001b[39m\u001b[38;5;241m*\u001b[39munused_kwargs)\n\u001b[0;32m   1052\u001b[0m \u001b[38;5;28;01melse\u001b[39;00m:\n\u001b[0;32m   1053\u001b[0m     \u001b[38;5;66;03m# Fallback: use pattern matching on the string.\u001b[39;00m\n\u001b[0;32m   1054\u001b[0m     \u001b[38;5;66;03m# We go from longer names to shorter names to catch roberta before bert (for instance)\u001b[39;00m\n",
      "File \u001b[1;32m~\\Desktop\\Dev Workshop\\development-workshop\\.venv\\lib\\site-packages\\transformers\\models\\auto\\configuration_auto.py:748\u001b[0m, in \u001b[0;36m_LazyConfigMapping.__getitem__\u001b[1;34m(self, key)\u001b[0m\n\u001b[0;32m    746\u001b[0m     \u001b[38;5;28;01mreturn\u001b[39;00m \u001b[38;5;28mself\u001b[39m\u001b[38;5;241m.\u001b[39m_extra_content[key]\n\u001b[0;32m    747\u001b[0m \u001b[38;5;28;01mif\u001b[39;00m key \u001b[38;5;129;01mnot\u001b[39;00m \u001b[38;5;129;01min\u001b[39;00m \u001b[38;5;28mself\u001b[39m\u001b[38;5;241m.\u001b[39m_mapping:\n\u001b[1;32m--> 748\u001b[0m     \u001b[38;5;28;01mraise\u001b[39;00m \u001b[38;5;167;01mKeyError\u001b[39;00m(key)\n\u001b[0;32m    749\u001b[0m value \u001b[38;5;241m=\u001b[39m \u001b[38;5;28mself\u001b[39m\u001b[38;5;241m.\u001b[39m_mapping[key]\n\u001b[0;32m    750\u001b[0m module_name \u001b[38;5;241m=\u001b[39m model_type_to_module_name(key)\n",
      "\u001b[1;31mKeyError\u001b[0m: 'qwen2'"
     ]
    }
   ],
   "source": [
    "class TransformersModel:\n",
    "    def __init__(self, model_name: str):\n",
    "        self.device = get_device()\n",
    "        logging.info(\"Loading model and tokenizer...\")\n",
    "        \n",
    "        self.tokenizer = AutoTokenizer.from_pretrained(model_name)\n",
    "        logging.info(\"Tokenizer loaded\")\n",
    "        \n",
    "        # self.model = AutoModelForSeq2SeqLM.from_pretrained(model_name)\n",
    "        self.model = AutoModelForCausalLM.from_pretrained(model_name)\n",
    "        self.model.to(self.device)\n",
    "        logging.info(\"Model loaded\")\n",
    "    \n",
    "    def generate_response(self, text: str, max_length=32, num_beams=4):\n",
    "        inputs = self.tokenizer.encode(text, return_tensors=\"pt\").to(self.device)\n",
    "        outputs = self.model.generate(inputs, max_length=max_length, num_beams=num_beams, early_stopping=True)\n",
    "        response = self.tokenizer.decode(outputs[0].to(\"cpu\"))\n",
    "        return response.replace(\"<pad>\", \"\").replace(\"<s>\", \"\").replace(\"</s>\", \"\").strip()\n",
    "\n",
    "models = {\n",
    "    # \"bigscience/T0_3B\" : TransformersModel(\"bigscience/T0_3B\"),\n",
    "    # \"google/flan-t5-small\" : TransformersModel(\"google/flan-t5-small\"),\n",
    "    # \"google/flan-t5-base\" : TransformersModel(\"google/flan-t5-base\"),\n",
    "    \"deepseek-ai/DeepSeek-R1-Distill-Qwen-1.5B\" : TransformersModel(\"deepseek-ai/DeepSeek-R1-Distill-Qwen-1.5B\"),\n",
    "    # \"geektech/flan-t5-base-gpt4-relation\" : TransformersModel(\"geektech/flan-t5-base-gpt4-relation\"),\n",
    "}"
   ]
  },
  {
   "cell_type": "code",
   "execution_count": 8,
   "id": "f2ec5e6d",
   "metadata": {},
   "outputs": [
    {
     "data": {
      "text/plain": [
       "('Okay, so I need to figure out how to create a list of age groups that the article studied based on the provided JSON data. The abstract is in JSON format, which I\\'m somewhat familiar with, but I\\'m not entirely sure how to parse it. Let me start by looking at the abstract given.\\n\\nThe abstract starts with a background section that mentions the prevalence of abdominal aortic aneurysms (AAA) in over 65-year-olds as 4.9%. It also talks about the increasing popularity of endovascular repair methods and the use of stent grafts. The endovascular repair involves placing a stent via the femoral artery and manipulating it within the aorta. After deployment, seals are formed at the proximal and distal landing zones to prevent the aneurysm from affecting circulation.\\n\\nHmm, so the main focus here seems to be on the age groups related to the prevalence of AAA and the study of endovascular repair. The background mentions \"over 65-year-olds,\" but it doesn\\'t specify further age groups. It just gives a general estimate. The article is an update from a 2013 review, which might have covered a broader range of ages.\\n\\nI\\'m trying to recall if there are other age groups typically studied in such contexts. Maybe the article is a review or a meta-analysis, so it might include more detailed age-specific studies or comparisons. But since the abstract only mentions the prevalence and endovascular repair, I\\'m not sure if it includes multiple age groups.\\n\\nWait, the user asked to create a list of age groups studied, and the abstract only mentions one specific age group. Maybe the article isn\\'t about multiple age groups but a single study on the prevalence and repair. So perhaps the list should only include the age group mentioned, which is over 65.\\n\\nAlternatively, if the article is a comprehensive review, it might include various age groups, but the abstract provided doesn\\'t specify that. It just talks about the 65+ group. So I think the list should include the age group mentioned in the background.\\n\\nI should also make sure that I\\'m not adding any other age groups unless the abstract explicitly states them. Since the abstract doesn\\'t mention any other groups, I can stick with the one mentioned.\\n\\nSo, the final list would just be the age group: over 65 years old.\\n</think>\\n\\n[\\n  {\\n    \"ageGroup\": \"Over 65 years old\"\\n  }\\n]',\n",
       " [{'role': 'user',\n",
       "   'content': 'You are supplied an article abstract formed as a JSON. Using the provided data, create a list of age groups which the article studied. DO NOT output any other text.\\n                                             \\n                                             \"abstract\": {\\n      \"Background\": \"The UK prevalence of abdominal aortic aneurysm (AAA) is estimated at 4.9% in over 65‐year olds. Progressive and unpredictable enlargement can lead to rupture. Endovascular repair of AAAs involves a stent graft system being introduced via the femoral artery and manipulated within the aorta under radiological guidance. Following endograft deployment, a seal is formed at the proximal and distal landing zones to exclude the aneurysm sac from the circulation. With the increasing popularity of endovascular repair there has been an increase in the number of commercially available stent graft designs on the market. This is an update of the review first published in 2013.\",\\n      }\\n                                             '},\n",
       "  {'role': 'assistant',\n",
       "   'content': 'Okay, so I need to figure out how to create a list of age groups that the article studied based on the provided JSON data. The abstract is in JSON format, which I\\'m somewhat familiar with, but I\\'m not entirely sure how to parse it. Let me start by looking at the abstract given.\\n\\nThe abstract starts with a background section that mentions the prevalence of abdominal aortic aneurysms (AAA) in over 65-year-olds as 4.9%. It also talks about the increasing popularity of endovascular repair methods and the use of stent grafts. The endovascular repair involves placing a stent via the femoral artery and manipulating it within the aorta. After deployment, seals are formed at the proximal and distal landing zones to prevent the aneurysm from affecting circulation.\\n\\nHmm, so the main focus here seems to be on the age groups related to the prevalence of AAA and the study of endovascular repair. The background mentions \"over 65-year-olds,\" but it doesn\\'t specify further age groups. It just gives a general estimate. The article is an update from a 2013 review, which might have covered a broader range of ages.\\n\\nI\\'m trying to recall if there are other age groups typically studied in such contexts. Maybe the article is a review or a meta-analysis, so it might include more detailed age-specific studies or comparisons. But since the abstract only mentions the prevalence and endovascular repair, I\\'m not sure if it includes multiple age groups.\\n\\nWait, the user asked to create a list of age groups studied, and the abstract only mentions one specific age group. Maybe the article isn\\'t about multiple age groups but a single study on the prevalence and repair. So perhaps the list should only include the age group mentioned, which is over 65.\\n\\nAlternatively, if the article is a comprehensive review, it might include various age groups, but the abstract provided doesn\\'t specify that. It just talks about the 65+ group. So I think the list should include the age group mentioned in the background.\\n\\nI should also make sure that I\\'m not adding any other age groups unless the abstract explicitly states them. Since the abstract doesn\\'t mention any other groups, I can stick with the one mentioned.\\n\\nSo, the final list would just be the age group: over 65 years old.\\n</think>\\n\\n[\\n  {\\n    \"ageGroup\": \"Over 65 years old\"\\n  }\\n]'}])"
      ]
     },
     "execution_count": 8,
     "metadata": {},
     "output_type": "execute_result"
    }
   ],
   "source": [
    "test_prompt_1 = \"\"\"You are supplied an article abstract formed as a JSON. Using the provided data, create a list of age groups which the article studied. DO NOT output any other text.\n",
    "                                             \n",
    "                                             \"abstract\": {\n",
    "      \"Background\": \"The UK prevalence of abdominal aortic aneurysm (AAA) is estimated at 4.9% in over 65‐year olds. Progressive and unpredictable enlargement can lead to rupture. Endovascular repair of AAAs involves a stent graft system being introduced via the femoral artery and manipulated within the aorta under radiological guidance. Following endograft deployment, a seal is formed at the proximal and distal landing zones to exclude the aneurysm sac from the circulation. With the increasing popularity of endovascular repair there has been an increase in the number of commercially available stent graft designs on the market. This is an update of the review first published in 2013.\",\n",
    "      \"Objectives\": \"This review aimed to assess the different stent graft types for endovascular repair of AAA.\",\n",
    "      \"Search methods\": \"The Cochrane Vascular Group Trials Search Co‐ordinator (TSC) searched the Specialised Register (last searched February 2015) and the Cochrane Register of Studies (2015, Issue 1). Trial databases were searched by the TSC for details of ongoing and unpublished studies.\",\n",
    "      \"Selection criteria\": \"All published and unpublished randomised controlled trials (RCTs) of stent graft types in the repair of AAAs were sought without language restriction and in consultation with the Cochrane Vascular Group TSC.\",\n",
    "      \"Data collection and analysis\": \"We planned to conduct data collection and analysis in accordance with the Cochrane Handbook for Systematic Reviews of Interventions .\",\n",
    "      \"Main results\": \"No studies were identified that met the inclusion criteria. It was not possible to review the quality of the evidence in the absence of studies eligible for inclusion in the review.\",\n",
    "      \"Authors' conclusions\": \"Unfortunately, no data exist regarding direct comparisons of the performance of different stent graft types. High quality randomised controlled trials evaluating stent graft types in abdominal endovascular aneurysm repair are required.\"\n",
    "    }\n",
    "                                             \"\"\"\n",
    "\n",
    "test_prompt_2 = \"\"\"You are supplied an article abstract formed as a JSON. Using the provided data, create a list of age groups which the article studied. DO NOT output any other text.\n",
    "                                             \n",
    "                                             \"abstract\": {\n",
    "      \"Background\": \"The UK prevalence of abdominal aortic aneurysm (AAA) is estimated at 4.9% in over 65‐year olds. Progressive and unpredictable enlargement can lead to rupture. Endovascular repair of AAAs involves a stent graft system being introduced via the femoral artery and manipulated within the aorta under radiological guidance. Following endograft deployment, a seal is formed at the proximal and distal landing zones to exclude the aneurysm sac from the circulation. With the increasing popularity of endovascular repair there has been an increase in the number of commercially available stent graft designs on the market. This is an update of the review first published in 2013.\",\n",
    "      }\n",
    "                                             \"\"\"\n",
    "\n",
    "test_prompt_3 = \"\"\"You are tasked with analyzing the abstract of a study. The abstract is provided below between the <abstract> HTML tags. Your goal is to extract and list the age groups mentioned in the abstract using the provided format. Do not include any explanation, additional text, or information outside the specified output format.\n",
    "\n",
    "Format Example: \"Teens 10-16 years old, Adults 20-30 years old, Elderly 65+ years old\"\n",
    "\n",
    "Abstract: <abstract>The UK prevalence of abdominal aortic aneurysm (AAA) is estimated at 4.9% in over 65‐year olds. Progressive and unpredictable enlargement can lead to rupture. Endovascular repair of AAAs involves a stent graft system being introduced via the femoral artery and manipulated within the aorta under radiological guidance. Following endograft deployment, a seal is formed at the proximal and distal landing zones to exclude the aneurysm sac from the circulation. With the increasing popularity of endovascular repair there has been an increase in the number of commercially available stent graft designs on the market. This is an update of the review first published in 2013.</abstract> \"\"\"\n",
    "\n",
    "bot.get_response(query= test_prompt_2)\n",
    "\n",
    "# for model in models.keys():\n",
    "#     print(f\"Model: {model}\")\n",
    "#     print(f\"Prompt 1 response: {models[model].generate_response(test_prompt_1, max_length=520, num_beams=4)}\")\n",
    "#     print(f\"Prompt 2 response: {models[model].generate_response(test_prompt_2, max_length=520, num_beams=4)}\")\n",
    "#     print(f\"Prompt 3 response: {models[model].generate_response(test_prompt_3, max_length=520, num_beams=4)}\")\n",
    "#     print(\"=====================================================================================\")\n"
   ]
  },
  {
   "cell_type": "code",
   "execution_count": null,
   "id": "3ca86d8f",
   "metadata": {},
   "outputs": [],
   "source": [
    "prompt = f\"\"\"\n",
    "  You are an expert article reviewer. You are supplied with ditailed medical article abstract. Your task is to generate very accurate PICO eligibility criteria (Population, Intervention, Comparison, Outcome).\n",
    "\n",
    "  <article_abstract>\n",
    "    <article_title>\n",
    "      {record[\"title\"]}\n",
    "    </article_title>\n",
    "    {sections_joined}\n",
    "  </article_abstract>\n",
    "\n",
    "  Please provide your awnser in the following format:\n",
    "  <format>\n",
    "    Population: (PICO eligibility criteria 1), (PICO eligibility criteria 2), ...\n",
    "    Intervention: (PICO eligibility criteria 3), (PICO eligibility criteria 4), ...\n",
    "    Comparison: (PICO eligibility criteria 5), (PICO eligibility criteria 6), ...\n",
    "    Outcome: (PICO eligibility criteria 7), (PICO eligibility criteria 😎, ...\n",
    "  </format>\n",
    "\n",
    "  Please make the response as short and concise as possible.\n",
    "  \"\"\".strip()\n",
    "\n",
    "bot.get_response(prompt)"
   ]
  },
  {
   "cell_type": "code",
   "execution_count": 8,
   "id": "d1a211a4",
   "metadata": {},
   "outputs": [
    {
     "ename": "KeyError",
     "evalue": "'geektech/flan-t5-base-gpt4-relation'",
     "output_type": "error",
     "traceback": [
      "\u001b[1;31m---------------------------------------------------------------------------\u001b[0m",
      "\u001b[1;31mKeyError\u001b[0m                                  Traceback (most recent call last)",
      "Cell \u001b[1;32mIn[8], line 1\u001b[0m\n\u001b[1;32m----> 1\u001b[0m \u001b[43mmodels\u001b[49m\u001b[43m[\u001b[49m\u001b[38;5;124;43m\"\u001b[39;49m\u001b[38;5;124;43mgeektech/flan-t5-base-gpt4-relation\u001b[39;49m\u001b[38;5;124;43m\"\u001b[39;49m\u001b[43m]\u001b[49m\u001b[38;5;241m.\u001b[39mgenerate_response(\u001b[38;5;124m\"\"\"\u001b[39m\u001b[38;5;124mYou are an expert article reviewer. You are supplied an article abstract formed as a JSON. Using the provided data, create a comma separated list of age groups to which the article applies. This list should follow the rules of the POPULATION part of PICO eligibility criteria. Do not output any other text.\u001b[39m\n\u001b[0;32m      2\u001b[0m \u001b[38;5;124m                                             \u001b[39m\n\u001b[0;32m      3\u001b[0m \u001b[38;5;124m                                             \u001b[39m\u001b[38;5;124m\"\u001b[39m\u001b[38;5;124mabstract\u001b[39m\u001b[38;5;124m\"\u001b[39m\u001b[38;5;124m: \u001b[39m\u001b[38;5;124m{\u001b[39m\n\u001b[0;32m      4\u001b[0m \u001b[38;5;124m      \u001b[39m\u001b[38;5;124m\"\u001b[39m\u001b[38;5;124mBackground\u001b[39m\u001b[38;5;124m\"\u001b[39m\u001b[38;5;124m: \u001b[39m\u001b[38;5;124m\"\u001b[39m\u001b[38;5;124mThe UK prevalence of abdominal aortic aneurysm (AAA) is estimated at 4.9\u001b[39m\u001b[38;5;132;01m% i\u001b[39;00m\u001b[38;5;124mn over 65‐year olds. Progressive and unpredictable enlargement can lead to rupture. Endovascular repair of AAAs involves a stent graft system being introduced via the femoral artery and manipulated within the aorta under radiological guidance. Following endograft deployment, a seal is formed at the proximal and distal landing zones to exclude the aneurysm sac from the circulation. With the increasing popularity of endovascular repair there has been an increase in the number of commercially available stent graft designs on the market. This is an update of the review first published in 2013.\u001b[39m\u001b[38;5;124m\"\u001b[39m\u001b[38;5;124m,\u001b[39m\n\u001b[0;32m      5\u001b[0m \u001b[38;5;124m      \u001b[39m\u001b[38;5;124m\"\u001b[39m\u001b[38;5;124mObjectives\u001b[39m\u001b[38;5;124m\"\u001b[39m\u001b[38;5;124m: \u001b[39m\u001b[38;5;124m\"\u001b[39m\u001b[38;5;124mThis review aimed to assess the different stent graft types for endovascular repair of AAA.\u001b[39m\u001b[38;5;124m\"\u001b[39m\u001b[38;5;124m,\u001b[39m\n\u001b[0;32m      6\u001b[0m \u001b[38;5;124m      \u001b[39m\u001b[38;5;124m\"\u001b[39m\u001b[38;5;124mSearch methods\u001b[39m\u001b[38;5;124m\"\u001b[39m\u001b[38;5;124m: \u001b[39m\u001b[38;5;124m\"\u001b[39m\u001b[38;5;124mThe Cochrane Vascular Group Trials Search Co‐ordinator (TSC) searched the Specialised Register (last searched February 2015) and the Cochrane Register of Studies (2015, Issue 1). Trial databases were searched by the TSC for details of ongoing and unpublished studies.\u001b[39m\u001b[38;5;124m\"\u001b[39m\u001b[38;5;124m,\u001b[39m\n\u001b[0;32m      7\u001b[0m \u001b[38;5;124m      \u001b[39m\u001b[38;5;124m\"\u001b[39m\u001b[38;5;124mSelection criteria\u001b[39m\u001b[38;5;124m\"\u001b[39m\u001b[38;5;124m: \u001b[39m\u001b[38;5;124m\"\u001b[39m\u001b[38;5;124mAll published and unpublished randomised controlled trials (RCTs) of stent graft types in the repair of AAAs were sought without language restriction and in consultation with the Cochrane Vascular Group TSC.\u001b[39m\u001b[38;5;124m\"\u001b[39m\u001b[38;5;124m,\u001b[39m\n\u001b[0;32m      8\u001b[0m \u001b[38;5;124m      \u001b[39m\u001b[38;5;124m\"\u001b[39m\u001b[38;5;124mData collection and analysis\u001b[39m\u001b[38;5;124m\"\u001b[39m\u001b[38;5;124m: \u001b[39m\u001b[38;5;124m\"\u001b[39m\u001b[38;5;124mWe planned to conduct data collection and analysis in accordance with the Cochrane Handbook for Systematic Reviews of Interventions .\u001b[39m\u001b[38;5;124m\"\u001b[39m\u001b[38;5;124m,\u001b[39m\n\u001b[0;32m      9\u001b[0m \u001b[38;5;124m      \u001b[39m\u001b[38;5;124m\"\u001b[39m\u001b[38;5;124mMain results\u001b[39m\u001b[38;5;124m\"\u001b[39m\u001b[38;5;124m: \u001b[39m\u001b[38;5;124m\"\u001b[39m\u001b[38;5;124mNo studies were identified that met the inclusion criteria. It was not possible to review the quality of the evidence in the absence of studies eligible for inclusion in the review.\u001b[39m\u001b[38;5;124m\"\u001b[39m\u001b[38;5;124m,\u001b[39m\n\u001b[0;32m     10\u001b[0m \u001b[38;5;124m      \u001b[39m\u001b[38;5;124m\"\u001b[39m\u001b[38;5;124mAuthors\u001b[39m\u001b[38;5;124m'\u001b[39m\u001b[38;5;124m conclusions\u001b[39m\u001b[38;5;124m\"\u001b[39m\u001b[38;5;124m: \u001b[39m\u001b[38;5;124m\"\u001b[39m\u001b[38;5;124mUnfortunately, no data exist regarding direct comparisons of the performance of different stent graft types. High quality randomised controlled trials evaluating stent graft types in abdominal endovascular aneurysm repair are required.\u001b[39m\u001b[38;5;124m\"\u001b[39m\n\u001b[0;32m     11\u001b[0m \u001b[38;5;124m    }\u001b[39m\n\u001b[0;32m     12\u001b[0m \u001b[38;5;124m                                             \u001b[39m\u001b[38;5;124m\"\"\"\u001b[39m)\n",
      "\u001b[1;31mKeyError\u001b[0m: 'geektech/flan-t5-base-gpt4-relation'"
     ]
    }
   ],
   "source": [
    "models[\"geektech/flan-t5-base-gpt4-relation\"].generate_response(\"\"\"You are an expert article reviewer. You are supplied an article abstract formed as a JSON. Using the provided data, create a comma separated list of age groups to which the article applies. This list should follow the rules of the POPULATION part of PICO eligibility criteria. Do not output any other text.\n",
    "                                             \n",
    "                                             \"abstract\": {\n",
    "      \"Background\": \"The UK prevalence of abdominal aortic aneurysm (AAA) is estimated at 4.9% in over 65‐year olds. Progressive and unpredictable enlargement can lead to rupture. Endovascular repair of AAAs involves a stent graft system being introduced via the femoral artery and manipulated within the aorta under radiological guidance. Following endograft deployment, a seal is formed at the proximal and distal landing zones to exclude the aneurysm sac from the circulation. With the increasing popularity of endovascular repair there has been an increase in the number of commercially available stent graft designs on the market. This is an update of the review first published in 2013.\",\n",
    "      \"Objectives\": \"This review aimed to assess the different stent graft types for endovascular repair of AAA.\",\n",
    "      \"Search methods\": \"The Cochrane Vascular Group Trials Search Co‐ordinator (TSC) searched the Specialised Register (last searched February 2015) and the Cochrane Register of Studies (2015, Issue 1). Trial databases were searched by the TSC for details of ongoing and unpublished studies.\",\n",
    "      \"Selection criteria\": \"All published and unpublished randomised controlled trials (RCTs) of stent graft types in the repair of AAAs were sought without language restriction and in consultation with the Cochrane Vascular Group TSC.\",\n",
    "      \"Data collection and analysis\": \"We planned to conduct data collection and analysis in accordance with the Cochrane Handbook for Systematic Reviews of Interventions .\",\n",
    "      \"Main results\": \"No studies were identified that met the inclusion criteria. It was not possible to review the quality of the evidence in the absence of studies eligible for inclusion in the review.\",\n",
    "      \"Authors' conclusions\": \"Unfortunately, no data exist regarding direct comparisons of the performance of different stent graft types. High quality randomised controlled trials evaluating stent graft types in abdominal endovascular aneurysm repair are required.\"\n",
    "    }\n",
    "                                             \"\"\")"
   ]
  },
  {
   "cell_type": "code",
   "execution_count": null,
   "id": "b8dc36cf",
   "metadata": {},
   "outputs": [
    {
     "data": {
      "text/plain": [
       "'Adults 20-30 years old, Elderly 65+ years old'"
      ]
     },
     "execution_count": 6,
     "metadata": {},
     "output_type": "execute_result"
    }
   ],
   "source": [
    "models[\"geektech/flan-t5-base-gpt4-relation\"].generate_response()"
   ]
  },
  {
   "cell_type": "code",
   "execution_count": null,
   "id": "fed0dd74",
   "metadata": {},
   "outputs": [],
   "source": []
  }
 ],
 "metadata": {
  "kernelspec": {
   "display_name": "Python 3 (ipykernel)",
   "language": "python",
   "name": "python3"
  },
  "language_info": {
   "codemirror_mode": {
    "name": "ipython",
    "version": 3
   },
   "file_extension": ".py",
   "mimetype": "text/x-python",
   "name": "python",
   "nbconvert_exporter": "python",
   "pygments_lexer": "ipython3",
   "version": "3.10.11"
  }
 },
 "nbformat": 4,
 "nbformat_minor": 5
}

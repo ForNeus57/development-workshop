{
 "cells": [
  {
   "cell_type": "code",
   "id": "b6ca024c",
   "metadata": {
    "ExecuteTime": {
     "end_time": "2025-04-25T14:00:36.071153Z",
     "start_time": "2025-04-25T14:00:35.938395Z"
    }
   },
   "source": [
    "from selenium import webdriver\n",
    "from selenium.webdriver.chrome.service import Service\n",
    "from selenium.webdriver.support.ui import WebDriverWait\n",
    "import time\n",
    "from bs4 import BeautifulSoup\n",
    "import json\n"
   ],
   "outputs": [],
   "execution_count": 1
  },
  {
   "cell_type": "code",
   "id": "c8a79d43",
   "metadata": {
    "ExecuteTime": {
     "end_time": "2025-04-25T14:01:01.351584Z",
     "start_time": "2025-04-25T14:00:37.744999Z"
    }
   },
   "source": [
    "PATH = \"..\\\\chromedriver-win64\\\\chromedriver.exe\"\n",
    "service = Service(PATH)\n",
    "options = webdriver.ChromeOptions()\n",
    "# options.add_argument('--headless')\n",
    "driver = webdriver.Chrome(service=service, options=options)\n",
    "wait = WebDriverWait(driver, 10)\n",
    "\n",
    "# Load reviews\n",
    "with open(\"../data/cochrane_reviews.json\", \"r\", encoding=\"utf-8\") as f:\n",
    "    reviews = json.load(f)\n",
    "\n",
    "results = []\n",
    "errors = []\n",
    "\n",
    "for i, review in enumerate(reviews):\n",
    "    start_url = review['full_url']\n",
    "    try:\n",
    "        driver.get(start_url)\n",
    "        time.sleep(2)\n",
    "        soup = BeautifulSoup(driver.page_source, \"html.parser\")\n",
    "\n",
    "        # Title\n",
    "        title_tag = soup.find(\"h1\", class_=\"publication-title\")\n",
    "        title = title_tag.get_text(strip=True) if title_tag else None\n",
    "\n",
    "        # Authors\n",
    "        authors = []\n",
    "        author_tags = soup.select(\"ul.authors li.author a\")\n",
    "        for tag in author_tags:\n",
    "            authors.append(tag.get_text(strip=True))\n",
    "\n",
    "        # Abstract (by section)\n",
    "        abstract_sections = soup.select(\"div.abstract section\")\n",
    "        abstract = {}\n",
    "        for section in abstract_sections:\n",
    "            heading = section.find(\"h3\", class_=\"title\")\n",
    "            content = section.find(\"p\")\n",
    "            if heading and content:\n",
    "                abstract[heading.get_text(strip=True)] = content.get_text(\" \", strip=True)\n",
    "\n",
    "        # PICO elements\n",
    "        pico = {}\n",
    "        pico_container = soup.find(\"div\", class_=\"pico-table\")\n",
    "        if pico_container:\n",
    "            for column in pico_container.find_all(\"div\", class_=\"pico-column\"):\n",
    "                header = column.find(\"h6\")\n",
    "                if header:\n",
    "                    key = header.get_text(strip=True).split(\"(\")[0].strip()  # Remove count\n",
    "                    terms = [li.get_text(strip=True) for li in column.select(\"ul.pico-terms li\")]\n",
    "                    pico[key] = terms\n",
    "\n",
    "        # Collect result\n",
    "        result = {\n",
    "            \"title\": title,\n",
    "            \"authors\": authors,\n",
    "            \"abstract\": abstract,\n",
    "            \"pico\": pico,\n",
    "            \"source_url\": start_url\n",
    "        }\n",
    "        results.append(result)\n",
    "\n",
    "    except Exception as e:\n",
    "        print(f\"Error processing review {i}: {start_url}\\n{e}\")\n",
    "        errors.append({\"url\": start_url, \"error\": str(e)})\n",
    "\n",
    "# Write results\n",
    "with open(\"../data/cochrane_parsed.json\", \"w\", encoding=\"utf-8\") as f:\n",
    "    json.dump(results, f, indent=2, ensure_ascii=False)\n",
    "\n",
    "with open(\"../data/cochrane_errors.json\", \"w\", encoding=\"utf-8\") as f:\n",
    "    json.dump(errors, f, indent=2, ensure_ascii=False)\n",
    "\n",
    "# Cleanup\n",
    "driver.quit()"
   ],
   "outputs": [
    {
     "ename": "KeyboardInterrupt",
     "evalue": "",
     "output_type": "error",
     "traceback": [
      "\u001B[31m---------------------------------------------------------------------------\u001B[39m",
      "\u001B[31mKeyboardInterrupt\u001B[39m                         Traceback (most recent call last)",
      "\u001B[36mCell\u001B[39m\u001B[36m \u001B[39m\u001B[32mIn[2]\u001B[39m\u001B[32m, line 19\u001B[39m\n\u001B[32m     17\u001B[39m \u001B[38;5;28;01mtry\u001B[39;00m:\n\u001B[32m     18\u001B[39m     driver.get(start_url)\n\u001B[32m---> \u001B[39m\u001B[32m19\u001B[39m     time.sleep(\u001B[32m2\u001B[39m)\n\u001B[32m     20\u001B[39m     soup = BeautifulSoup(driver.page_source, \u001B[33m\"\u001B[39m\u001B[33mhtml.parser\u001B[39m\u001B[33m\"\u001B[39m)\n\u001B[32m     22\u001B[39m     \u001B[38;5;66;03m# Title\u001B[39;00m\n",
      "\u001B[31mKeyboardInterrupt\u001B[39m: "
     ]
    }
   ],
   "execution_count": 2
  },
  {
   "cell_type": "code",
   "execution_count": null,
   "id": "ab86fdf5",
   "metadata": {},
   "outputs": [],
   "source": [
    "\n",
    "    "
   ]
  }
 ],
 "metadata": {
  "kernelspec": {
   "display_name": "Python 3",
   "language": "python",
   "name": "python3"
  },
  "language_info": {
   "codemirror_mode": {
    "name": "ipython",
    "version": 3
   },
   "file_extension": ".py",
   "mimetype": "text/x-python",
   "name": "python",
   "nbconvert_exporter": "python",
   "pygments_lexer": "ipython3",
   "version": "3.12.1"
  }
 },
 "nbformat": 4,
 "nbformat_minor": 5
}

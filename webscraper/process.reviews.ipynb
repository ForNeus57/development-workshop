{
 "cells": [
  {
   "cell_type": "code",
   "execution_count": 15,
   "id": "b6ca024c",
   "metadata": {},
   "outputs": [],
   "source": [
    "from selenium import webdriver\n",
    "from selenium.webdriver.chrome.service import Service\n",
    "from selenium.webdriver.common.by import By\n",
    "from selenium.webdriver.support.ui import WebDriverWait\n",
    "from selenium.webdriver.support import expected_conditions as EC\n",
    "from selenium.common.exceptions import ElementClickInterceptedException, TimeoutException\n",
    "from selenium.webdriver.support.ui import Select\n",
    "import time\n",
    "import json"
   ]
  },
  {
   "cell_type": "code",
   "execution_count": 16,
   "id": "c8a79d43",
   "metadata": {},
   "outputs": [],
   "source": [
    "PATH = \"..\\\\chromedriver-win64\\\\chromedriver.exe\" # path to chromedriver\n",
    "\n",
    "reviews = json.load(open(\"../data/cochrane_reviews.json\", \"r\", encoding=\"utf-8\"))\n",
    "\n",
    "service = Service(PATH)\n",
    "options = webdriver.ChromeOptions()\n",
    "# options.add_argument('--headless')  # Uncomment if you want headless mode\n",
    "driver = webdriver.Chrome(service=service, options=options)\n",
    "wait = WebDriverWait(driver, 10)  # 10 second max wait\n",
    "\n"
   ]
  },
  {
   "cell_type": "code",
   "execution_count": 17,
   "id": "ab86fdf5",
   "metadata": {},
   "outputs": [
    {
     "name": "stdout",
     "output_type": "stream",
     "text": [
      "start_url: https://www.cochranelibrary.com/cdsr/doi/10.1002/14651858.CD012066.pub3/full\n"
     ]
    }
   ],
   "source": [
    "for review in reviews:\n",
    "    start_url = review[1]\n",
    "    print(f'start_url: {start_url}')\n",
    "    driver.get(start_url)\n",
    "    time.sleep(2)  # wait for the page to load\n",
    "    break # for testing purposes\n",
    "    "
   ]
  }
 ],
 "metadata": {
  "kernelspec": {
   "display_name": "Python 3",
   "language": "python",
   "name": "python3"
  },
  "language_info": {
   "codemirror_mode": {
    "name": "ipython",
    "version": 3
   },
   "file_extension": ".py",
   "mimetype": "text/x-python",
   "name": "python",
   "nbconvert_exporter": "python",
   "pygments_lexer": "ipython3",
   "version": "3.12.1"
  }
 },
 "nbformat": 4,
 "nbformat_minor": 5
}

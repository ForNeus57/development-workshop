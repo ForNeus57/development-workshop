{
 "cells": [
  {
   "cell_type": "code",
   "id": "b6ca024c",
   "metadata": {
    "ExecuteTime": {
     "end_time": "2025-04-27T20:25:15.190478Z",
     "start_time": "2025-04-27T20:25:15.086890Z"
    }
   },
   "source": [
    "import json\n",
    "import time\n",
    "\n",
    "from selenium import webdriver\n",
    "from selenium.common import NoSuchElementException\n",
    "from selenium.webdriver.chrome.service import Service\n",
    "from selenium.webdriver.support.ui import WebDriverWait\n",
    "from selenium.webdriver.common.by import By\n",
    "from selenium.webdriver.support import expected_conditions as EC"
   ],
   "outputs": [],
   "execution_count": 1
  },
  {
   "metadata": {
    "ExecuteTime": {
     "end_time": "2025-04-27T20:25:16.310863Z",
     "start_time": "2025-04-27T20:25:15.197528Z"
    }
   },
   "cell_type": "code",
   "source": [
    "PATH = \"..\\\\chromedriver-win64\\\\chromedriver.exe\"\n",
    "service = Service(PATH)\n",
    "options = webdriver.ChromeOptions()\n",
    "options.add_argument('--headless')\n",
    "driver = webdriver.Chrome(service=service, options=options)\n",
    "wait = WebDriverWait(driver, 10, poll_frequency=.2)\n",
    "MAX_RETRIES = 5\n",
    "MAX_ARTICLES = 4"
   ],
   "id": "779dd44a26ccd991",
   "outputs": [],
   "execution_count": 2
  },
  {
   "metadata": {
    "ExecuteTime": {
     "end_time": "2025-04-27T20:25:16.428310Z",
     "start_time": "2025-04-27T20:25:16.424312Z"
    }
   },
   "cell_type": "code",
   "source": "medicine_queries = [\"DNA\", \"RNA\", \"protein\", \"cell\", \"gene\", \"genome\", \"mutation\", \"virus\", \"bacteria\", \"fungus\", \"immune system\", \"antibody\", \"antigen\", \"vaccine\", \"disease\", \"diagnosis\", \"treatment\", \"therapy\", \"clinical trial\", \"pharmacology\", \"neuroscience\", \"cardiology\", \"oncology\", \"endocrinology\", \"immunology\", \"microbiology\", \"virology\", \"anatomy\", \"physiology\", \"pathology\", \"biochemistry\", \"biophysics\", \"bioinformatics\", \"algorithm\", \"data\", \"model\", \"simulation\", \"analysis\", \"statistics\", \"research\", \"experiment\", \"hypothesis\", \"theory\", \"scientific method\", \"publication\", \"peer review\", \"conference\", \"journal\", \"ethics\", \"innovation\", \"technology\"]",
   "id": "7b1fca5bab4b70eb",
   "outputs": [],
   "execution_count": 3
  },
  {
   "metadata": {
    "ExecuteTime": {
     "end_time": "2025-04-27T20:32:38.331917Z",
     "start_time": "2025-04-27T20:25:16.438323Z"
    }
   },
   "cell_type": "code",
   "source": [
    "all_articles = []\n",
    "errors = []\n",
    "\n",
    "for i, query in enumerate(medicine_queries):\n",
    "    try:\n",
    "        articles = []\n",
    "        for _ in range(MAX_RETRIES):\n",
    "            driver.get(f'https://citation-screening.ec.tuwien.ac.at/search?search_query={query}&source=reformulate_search')\n",
    "            wait.until(EC.presence_of_element_located((By.CSS_SELECTOR, \"article.card\")))\n",
    "\n",
    "            articles = driver.find_elements(By.CSS_SELECTOR, \"article.card\")\n",
    "\n",
    "            # articles[0] is a wikipedia article\n",
    "            if len(articles) > 1:\n",
    "                break\n",
    "\n",
    "        article_iterator = iter(articles)\n",
    "        article = next(article_iterator)\n",
    "        tries = 0\n",
    "        index = 1\n",
    "\n",
    "        while tries < MAX_ARTICLES and index < len(articles):\n",
    "            index += 1\n",
    "            article = next(article_iterator)\n",
    "\n",
    "            title_element = article.find_element(By.CSS_SELECTOR, \".card-content .title a\")\n",
    "            title = title_element.text\n",
    "            source_url = title_element.get_attribute(\"href\")\n",
    "\n",
    "            authors_element = article.find_element(By.CSS_SELECTOR, \".card-content .subtitle\")\n",
    "            authors = authors_element.text.split(', ')\n",
    "\n",
    "            abstract = {}\n",
    "            try:\n",
    "                abstract_button = article.find_element(By.CSS_SELECTOR, \"p.is-5 button.card__show-more\")\n",
    "                abstract_button.click()\n",
    "                time.sleep(0.5)\n",
    "            except NoSuchElementException:\n",
    "                pass\n",
    "\n",
    "            abstract_text = article.find_element(By.CSS_SELECTOR, \"div.content p.is-5\").text[10:]\n",
    "            if abstract_text != 'No abstract available':\n",
    "                abstract[\"Abstract\"] = abstract_text\n",
    "\n",
    "            cso_keywords_button = article.find_element(By.CSS_SELECTOR, \"h6 button.card__show-more\")\n",
    "            cso_keywords_button.click()\n",
    "            time.sleep(0.5)\n",
    "\n",
    "            cso_keywords = article.find_elements(By.CSS_SELECTOR, \"a.button\")\n",
    "            if len(cso_keywords) > 0:\n",
    "                abstract[\"CSO Keywords\"] = ', '.join(cso_keyword.text for cso_keyword in cso_keywords)\n",
    "\n",
    "            if len(abstract) > 0:\n",
    "                tries += 1\n",
    "                all_articles.append({\n",
    "                    \"title\": title,\n",
    "                    \"authors\": authors,\n",
    "                    \"abstract\": abstract,\n",
    "                    \"source_url\": source_url,\n",
    "                })\n",
    "\n",
    "        print(f'Done: {query}')\n",
    "\n",
    "    except Exception as e:\n",
    "        print(f\"Error processing review {i}: {query}\\n{e}\")\n",
    "        errors.append({\"query\": query, \"error\": str(e)})"
   ],
   "id": "a84b091eaf617ab",
   "outputs": [
    {
     "name": "stdout",
     "output_type": "stream",
     "text": [
      "Done: DNA\n",
      "Done: RNA\n",
      "Done: protein\n",
      "Done: cell\n",
      "Done: gene\n",
      "Done: genome\n",
      "Done: mutation\n",
      "Done: virus\n",
      "Done: bacteria\n",
      "Done: fungus\n",
      "Done: immune system\n",
      "Done: antibody\n",
      "Done: antigen\n",
      "Done: vaccine\n",
      "Done: disease\n",
      "Done: diagnosis\n",
      "Done: treatment\n",
      "Done: therapy\n",
      "Done: clinical trial\n",
      "Done: pharmacology\n",
      "Done: neuroscience\n",
      "Done: cardiology\n",
      "Done: oncology\n",
      "Done: endocrinology\n",
      "Done: immunology\n",
      "Done: microbiology\n",
      "Done: virology\n",
      "Done: anatomy\n",
      "Done: physiology\n",
      "Done: pathology\n",
      "Done: biochemistry\n",
      "Done: biophysics\n",
      "Done: bioinformatics\n",
      "Done: algorithm\n",
      "Done: data\n",
      "Done: model\n",
      "Done: simulation\n",
      "Done: analysis\n",
      "Done: statistics\n",
      "Done: research\n",
      "Done: experiment\n",
      "Done: hypothesis\n",
      "Done: theory\n",
      "Done: scientific method\n",
      "Done: publication\n",
      "Done: peer review\n",
      "Done: conference\n",
      "Done: journal\n",
      "Done: ethics\n",
      "Done: innovation\n",
      "Done: technology\n"
     ]
    }
   ],
   "execution_count": 4
  },
  {
   "cell_type": "code",
   "id": "ab86fdf5",
   "metadata": {
    "ExecuteTime": {
     "end_time": "2025-04-27T20:32:38.354876Z",
     "start_time": "2025-04-27T20:32:38.345897Z"
    }
   },
   "source": [
    "# Write results\n",
    "with open(\"../data/cruise_literature/cruise_literature_parsed.json\", \"w\", encoding=\"utf-8\") as f:\n",
    "    json.dump(all_articles, f, indent=2, ensure_ascii=False, sort_keys=True)\n",
    "\n",
    "with open(\"../data/cruise_literature/cruise_literature_errors.json\", \"w\", encoding=\"utf-8\") as f:\n",
    "    json.dump(errors, f, indent=2, ensure_ascii=False, sort_keys=True)"
   ],
   "outputs": [],
   "execution_count": 5
  }
 ],
 "metadata": {
  "kernelspec": {
   "display_name": "Python 3",
   "language": "python",
   "name": "python3"
  },
  "language_info": {
   "codemirror_mode": {
    "name": "ipython",
    "version": 3
   },
   "file_extension": ".py",
   "mimetype": "text/x-python",
   "name": "python",
   "nbconvert_exporter": "python",
   "pygments_lexer": "ipython3",
   "version": "3.12.1"
  }
 },
 "nbformat": 4,
 "nbformat_minor": 5
}
